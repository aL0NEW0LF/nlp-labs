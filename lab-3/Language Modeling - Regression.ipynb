{
 "cells": [
  {
   "cell_type": "markdown",
   "metadata": {},
   "source": [
    "# **LIBRARIES IMPORT**"
   ]
  },
  {
   "cell_type": "code",
   "execution_count": 1,
   "metadata": {},
   "outputs": [
    {
     "name": "stdout",
     "output_type": "stream",
     "text": [
      "['C:\\\\Users\\\\legion\\\\AppData\\\\Local\\\\Programs\\\\Python\\\\Python312\\\\python312.zip', 'C:\\\\Users\\\\legion\\\\AppData\\\\Local\\\\Programs\\\\Python\\\\Python312\\\\DLLs', 'C:\\\\Users\\\\legion\\\\AppData\\\\Local\\\\Programs\\\\Python\\\\Python312\\\\Lib', 'C:\\\\Users\\\\legion\\\\AppData\\\\Local\\\\Programs\\\\Python\\\\Python312', 'd:\\\\Projects\\\\nlp-projects\\\\.venv', '', 'd:\\\\Projects\\\\nlp-projects\\\\.venv\\\\Lib\\\\site-packages', 'd:\\\\Projects\\\\nlp-projects\\\\.venv\\\\Lib\\\\site-packages\\\\win32', 'd:\\\\Projects\\\\nlp-projects\\\\.venv\\\\Lib\\\\site-packages\\\\win32\\\\lib', 'd:\\\\Projects\\\\nlp-projects\\\\.venv\\\\Lib\\\\site-packages\\\\Pythonwin', 'D:\\\\Projects\\\\nlp-projects\\\\utils']\n"
     ]
    }
   ],
   "source": [
    "import sys\n",
    "sys.path.append('D:\\\\Projects\\\\nlp-projects\\\\utils')\n",
    "print(sys.path)"
   ]
  },
  {
   "cell_type": "code",
   "execution_count": 2,
   "metadata": {},
   "outputs": [],
   "source": [
    "import pandas as pd\n",
    "import nltk\n",
    "import utils\n",
    "from sklearn.linear_model import LinearRegression\n",
    "from sklearn.svm import SVR\n",
    "from sklearn.tree import DecisionTreeRegressor"
   ]
  },
  {
   "cell_type": "markdown",
   "metadata": {},
   "source": [
    "# **DATA WRANGLING & PROCESSING PIPELINE**\n",
    "\n",
    "The dataset is a collection of answers to questions, a question is identified by a unique id and here we have multiple answers to the same question right and wrong, with a score for each answer. The goal is to predict the score of the answers to know if it is correct or not.\n",
    "\n",
    "Here we will choose the answer for the question with the most amount of answers, but the same process can be applied to any question."
   ]
  },
  {
   "cell_type": "code",
   "execution_count": 3,
   "metadata": {},
   "outputs": [
    {
     "name": "stdout",
     "output_type": "stream",
     "text": [
      "id\n",
      "11.1    60\n",
      "12.1    54\n",
      "3.2     31\n",
      "3.7     31\n",
      "3.6     31\n",
      "        ..\n",
      "9.7     20\n",
      "10.3    19\n",
      "9.2     18\n",
      "4.6     18\n",
      "9.6     16\n",
      "Name: count, Length: 85, dtype: int64\n",
      "[ 1.1  1.2  1.3  1.4  1.5  1.6  1.7  2.1  2.2  2.3  2.4  2.5  2.6  2.7\n",
      "  3.1  3.2  3.3  3.4  3.5  3.6  3.7  4.1  4.2  4.3  4.4  4.5  4.6  4.7\n",
      "  5.1  5.2  5.3  5.4  6.1  6.2  6.3  6.4  6.5  6.6  6.7  7.1  7.2  7.3\n",
      "  7.4  7.5  7.6  7.7  8.1  8.2  8.3  8.4  8.5  8.6  8.7  9.1  9.2  9.3\n",
      "  9.4  9.5  9.6  9.7 10.1 10.2 10.3 10.4 10.5 10.6 10.7 11.1 11.2 11.3\n",
      " 11.4 11.5 11.6 11.7 11.8 11.9 12.1 12.2 12.3 12.4 12.5 12.6 12.7 12.8\n",
      " 12.9]\n"
     ]
    }
   ],
   "source": [
    "dataframe = pd.read_csv('data/answers.csv')\n",
    "\n",
    "#drop duplicates\n",
    "dataframe.drop_duplicates(inplace=True)\n",
    "\n",
    "# count by id\n",
    "print(dataframe['id'].value_counts())\n",
    "\n",
    "#unique ids\n",
    "print(dataframe['id'].unique())"
   ]
  },
  {
   "cell_type": "markdown",
   "metadata": {},
   "source": [
    "### **Choosing the question with the most amount of answers**"
   ]
  },
  {
   "cell_type": "code",
   "execution_count": 4,
   "metadata": {},
   "outputs": [
    {
     "data": {
      "text/html": [
       "<div>\n",
       "<style scoped>\n",
       "    .dataframe tbody tr th:only-of-type {\n",
       "        vertical-align: middle;\n",
       "    }\n",
       "\n",
       "    .dataframe tbody tr th {\n",
       "        vertical-align: top;\n",
       "    }\n",
       "\n",
       "    .dataframe thead th {\n",
       "        text-align: right;\n",
       "    }\n",
       "</style>\n",
       "<table border=\"1\" class=\"dataframe\">\n",
       "  <thead>\n",
       "    <tr style=\"text-align: right;\">\n",
       "      <th></th>\n",
       "      <th>answer</th>\n",
       "      <th>score</th>\n",
       "    </tr>\n",
       "  </thead>\n",
       "  <tbody>\n",
       "    <tr>\n",
       "      <th>0</th>\n",
       "      <td>High risk problems are address in the prototyp...</td>\n",
       "      <td>3.5</td>\n",
       "    </tr>\n",
       "    <tr>\n",
       "      <th>1</th>\n",
       "      <td>To simulate portions of the desired final prod...</td>\n",
       "      <td>5.0</td>\n",
       "    </tr>\n",
       "    <tr>\n",
       "      <th>2</th>\n",
       "      <td>A prototype program simulates the behaviors of...</td>\n",
       "      <td>4.0</td>\n",
       "    </tr>\n",
       "    <tr>\n",
       "      <th>3</th>\n",
       "      <td>Defined in the Specification phase a prototype...</td>\n",
       "      <td>5.0</td>\n",
       "    </tr>\n",
       "    <tr>\n",
       "      <th>4</th>\n",
       "      <td>It is used to let the users have a first idea ...</td>\n",
       "      <td>3.0</td>\n",
       "    </tr>\n",
       "    <tr>\n",
       "      <th>5</th>\n",
       "      <td>To find problem and errors in a program before...</td>\n",
       "      <td>2.0</td>\n",
       "    </tr>\n",
       "    <tr>\n",
       "      <th>6</th>\n",
       "      <td>To address major issues in the creation of the...</td>\n",
       "      <td>2.5</td>\n",
       "    </tr>\n",
       "    <tr>\n",
       "      <th>7</th>\n",
       "      <td>you can break the whole program into prototype...</td>\n",
       "      <td>5.0</td>\n",
       "    </tr>\n",
       "    <tr>\n",
       "      <th>8</th>\n",
       "      <td>To provide an example or model of how the fini...</td>\n",
       "      <td>3.5</td>\n",
       "    </tr>\n",
       "    <tr>\n",
       "      <th>9</th>\n",
       "      <td>Simulating the behavior of only a portion of t...</td>\n",
       "      <td>5.0</td>\n",
       "    </tr>\n",
       "    <tr>\n",
       "      <th>10</th>\n",
       "      <td>A program that stimulates the behavior of port...</td>\n",
       "      <td>5.0</td>\n",
       "    </tr>\n",
       "    <tr>\n",
       "      <th>11</th>\n",
       "      <td>A program that simulates the behavior of porti...</td>\n",
       "      <td>5.0</td>\n",
       "    </tr>\n",
       "    <tr>\n",
       "      <th>12</th>\n",
       "      <td>To lay out the basics and give you a starting ...</td>\n",
       "      <td>2.0</td>\n",
       "    </tr>\n",
       "    <tr>\n",
       "      <th>13</th>\n",
       "      <td>To simulate problem solving for parts of the p...</td>\n",
       "      <td>4.5</td>\n",
       "    </tr>\n",
       "    <tr>\n",
       "      <th>14</th>\n",
       "      <td>A prototype program provides a basic groundwor...</td>\n",
       "      <td>2.0</td>\n",
       "    </tr>\n",
       "    <tr>\n",
       "      <th>15</th>\n",
       "      <td>A prototype program is a part of the Specifica...</td>\n",
       "      <td>4.5</td>\n",
       "    </tr>\n",
       "    <tr>\n",
       "      <th>16</th>\n",
       "      <td>Program that simulates the behavior of portion...</td>\n",
       "      <td>5.0</td>\n",
       "    </tr>\n",
       "    <tr>\n",
       "      <th>17</th>\n",
       "      <td>it provides a limited proof of concept to veri...</td>\n",
       "      <td>2.0</td>\n",
       "    </tr>\n",
       "    <tr>\n",
       "      <th>18</th>\n",
       "      <td>It tests the main function of the program whil...</td>\n",
       "      <td>2.0</td>\n",
       "    </tr>\n",
       "    <tr>\n",
       "      <th>19</th>\n",
       "      <td>To get early feedback from users in early stag...</td>\n",
       "      <td>2.5</td>\n",
       "    </tr>\n",
       "    <tr>\n",
       "      <th>20</th>\n",
       "      <td>it simulates the behavior of portions of the d...</td>\n",
       "      <td>5.0</td>\n",
       "    </tr>\n",
       "    <tr>\n",
       "      <th>21</th>\n",
       "      <td>It simulates the behavior of portions of the d...</td>\n",
       "      <td>5.0</td>\n",
       "    </tr>\n",
       "    <tr>\n",
       "      <th>22</th>\n",
       "      <td>A prototype program is used in problem solving...</td>\n",
       "      <td>1.5</td>\n",
       "    </tr>\n",
       "    <tr>\n",
       "      <th>23</th>\n",
       "      <td>To ease the understanding of problem under dis...</td>\n",
       "      <td>2.5</td>\n",
       "    </tr>\n",
       "    <tr>\n",
       "      <th>25</th>\n",
       "      <td>The role of a prototype program is to help spo...</td>\n",
       "      <td>2.0</td>\n",
       "    </tr>\n",
       "    <tr>\n",
       "      <th>26</th>\n",
       "      <td>the prototype program gives a general idea of ...</td>\n",
       "      <td>3.0</td>\n",
       "    </tr>\n",
       "    <tr>\n",
       "      <th>27</th>\n",
       "      <td>to show that a certain part of the program wor...</td>\n",
       "      <td>3.0</td>\n",
       "    </tr>\n",
       "    <tr>\n",
       "      <th>28</th>\n",
       "      <td>Prototype programming is an approach to progra...</td>\n",
       "      <td>2.5</td>\n",
       "    </tr>\n",
       "  </tbody>\n",
       "</table>\n",
       "</div>"
      ],
      "text/plain": [
       "                                               answer  score\n",
       "0   High risk problems are address in the prototyp...    3.5\n",
       "1   To simulate portions of the desired final prod...    5.0\n",
       "2   A prototype program simulates the behaviors of...    4.0\n",
       "3   Defined in the Specification phase a prototype...    5.0\n",
       "4   It is used to let the users have a first idea ...    3.0\n",
       "5   To find problem and errors in a program before...    2.0\n",
       "6   To address major issues in the creation of the...    2.5\n",
       "7   you can break the whole program into prototype...    5.0\n",
       "8   To provide an example or model of how the fini...    3.5\n",
       "9   Simulating the behavior of only a portion of t...    5.0\n",
       "10  A program that stimulates the behavior of port...    5.0\n",
       "11  A program that simulates the behavior of porti...    5.0\n",
       "12  To lay out the basics and give you a starting ...    2.0\n",
       "13  To simulate problem solving for parts of the p...    4.5\n",
       "14  A prototype program provides a basic groundwor...    2.0\n",
       "15  A prototype program is a part of the Specifica...    4.5\n",
       "16  Program that simulates the behavior of portion...    5.0\n",
       "17  it provides a limited proof of concept to veri...    2.0\n",
       "18  It tests the main function of the program whil...    2.0\n",
       "19  To get early feedback from users in early stag...    2.5\n",
       "20  it simulates the behavior of portions of the d...    5.0\n",
       "21  It simulates the behavior of portions of the d...    5.0\n",
       "22  A prototype program is used in problem solving...    1.5\n",
       "23  To ease the understanding of problem under dis...    2.5\n",
       "25  The role of a prototype program is to help spo...    2.0\n",
       "26  the prototype program gives a general idea of ...    3.0\n",
       "27  to show that a certain part of the program wor...    3.0\n",
       "28  Prototype programming is an approach to progra...    2.5"
      ]
     },
     "execution_count": 4,
     "metadata": {},
     "output_type": "execute_result"
    }
   ],
   "source": [
    "dataframe = dataframe[dataframe['id'] == 1.1]\n",
    "\n",
    "dataframe.drop(columns=['correct', 'id'], inplace=True)\n",
    "\n",
    "dataframe"
   ]
  },
  {
   "cell_type": "code",
   "execution_count": 5,
   "metadata": {},
   "outputs": [
    {
     "name": "stderr",
     "output_type": "stream",
     "text": [
      "[nltk_data] Downloading package punkt to\n",
      "[nltk_data]     C:\\Users\\legion\\AppData\\Roaming\\nltk_data...\n",
      "[nltk_data]   Package punkt is already up-to-date!\n",
      "[nltk_data] Downloading package stopwords to\n",
      "[nltk_data]     C:\\Users\\legion\\AppData\\Roaming\\nltk_data...\n",
      "[nltk_data]   Package stopwords is already up-to-date!\n",
      "[nltk_data] Downloading package wordnet to\n",
      "[nltk_data]     C:\\Users\\legion\\AppData\\Roaming\\nltk_data...\n",
      "[nltk_data]   Package wordnet is already up-to-date!\n"
     ]
    },
    {
     "data": {
      "text/plain": [
       "True"
      ]
     },
     "execution_count": 5,
     "metadata": {},
     "output_type": "execute_result"
    }
   ],
   "source": [
    "nltk.download('punkt')\n",
    "nltk.download('stopwords')\n",
    "nltk.download('wordnet')"
   ]
  },
  {
   "cell_type": "markdown",
   "metadata": {},
   "source": [
    "### **Tokenization**"
   ]
  },
  {
   "cell_type": "code",
   "execution_count": 6,
   "metadata": {},
   "outputs": [
    {
     "data": {
      "text/html": [
       "<div>\n",
       "<style scoped>\n",
       "    .dataframe tbody tr th:only-of-type {\n",
       "        vertical-align: middle;\n",
       "    }\n",
       "\n",
       "    .dataframe tbody tr th {\n",
       "        vertical-align: top;\n",
       "    }\n",
       "\n",
       "    .dataframe thead th {\n",
       "        text-align: right;\n",
       "    }\n",
       "</style>\n",
       "<table border=\"1\" class=\"dataframe\">\n",
       "  <thead>\n",
       "    <tr style=\"text-align: right;\">\n",
       "      <th></th>\n",
       "      <th>answer</th>\n",
       "      <th>score</th>\n",
       "    </tr>\n",
       "  </thead>\n",
       "  <tbody>\n",
       "    <tr>\n",
       "      <th>0</th>\n",
       "      <td>[high, risk, problems, address, prototype, pro...</td>\n",
       "      <td>3.5</td>\n",
       "    </tr>\n",
       "    <tr>\n",
       "      <th>1</th>\n",
       "      <td>[simulate, portions, desired, final, product, ...</td>\n",
       "      <td>5.0</td>\n",
       "    </tr>\n",
       "    <tr>\n",
       "      <th>2</th>\n",
       "      <td>[prototype, program, simulates, behaviors, por...</td>\n",
       "      <td>4.0</td>\n",
       "    </tr>\n",
       "    <tr>\n",
       "      <th>3</th>\n",
       "      <td>[defined, specification, phase, prototype, sti...</td>\n",
       "      <td>5.0</td>\n",
       "    </tr>\n",
       "    <tr>\n",
       "      <th>4</th>\n",
       "      <td>[used, let, users, first, idea, completed, pro...</td>\n",
       "      <td>3.0</td>\n",
       "    </tr>\n",
       "    <tr>\n",
       "      <th>5</th>\n",
       "      <td>[find, problem, errors, program, finalized]</td>\n",
       "      <td>2.0</td>\n",
       "    </tr>\n",
       "    <tr>\n",
       "      <th>6</th>\n",
       "      <td>[address, major, issues, creation, program, wa...</td>\n",
       "      <td>2.5</td>\n",
       "    </tr>\n",
       "    <tr>\n",
       "      <th>7</th>\n",
       "      <td>[break, whole, program, prototype, programs, s...</td>\n",
       "      <td>5.0</td>\n",
       "    </tr>\n",
       "    <tr>\n",
       "      <th>8</th>\n",
       "      <td>[provide, example, model, finished, program, p...</td>\n",
       "      <td>3.5</td>\n",
       "    </tr>\n",
       "    <tr>\n",
       "      <th>9</th>\n",
       "      <td>[simulating, behavior, portion, desired, softw...</td>\n",
       "      <td>5.0</td>\n",
       "    </tr>\n",
       "    <tr>\n",
       "      <th>10</th>\n",
       "      <td>[program, stimulates, behavior, portions, desi...</td>\n",
       "      <td>5.0</td>\n",
       "    </tr>\n",
       "    <tr>\n",
       "      <th>11</th>\n",
       "      <td>[program, simulates, behavior, portions, desir...</td>\n",
       "      <td>5.0</td>\n",
       "    </tr>\n",
       "    <tr>\n",
       "      <th>12</th>\n",
       "      <td>[lay, basics, give, starting, point, actual, p...</td>\n",
       "      <td>2.0</td>\n",
       "    </tr>\n",
       "    <tr>\n",
       "      <th>13</th>\n",
       "      <td>[simulate, problem, solving, parts, problem]</td>\n",
       "      <td>4.5</td>\n",
       "    </tr>\n",
       "    <tr>\n",
       "      <th>14</th>\n",
       "      <td>[prototype, program, provides, basic, groundwo...</td>\n",
       "      <td>2.0</td>\n",
       "    </tr>\n",
       "    <tr>\n",
       "      <th>15</th>\n",
       "      <td>[prototype, program, part, specification, phas...</td>\n",
       "      <td>4.5</td>\n",
       "    </tr>\n",
       "    <tr>\n",
       "      <th>16</th>\n",
       "      <td>[program, simulates, behavior, portions, desir...</td>\n",
       "      <td>5.0</td>\n",
       "    </tr>\n",
       "    <tr>\n",
       "      <th>17</th>\n",
       "      <td>[provides, limited, proof, concept, verify, cl...</td>\n",
       "      <td>2.0</td>\n",
       "    </tr>\n",
       "    <tr>\n",
       "      <th>18</th>\n",
       "      <td>[tests, main, function, program, leaving, fine...</td>\n",
       "      <td>2.0</td>\n",
       "    </tr>\n",
       "    <tr>\n",
       "      <th>19</th>\n",
       "      <td>[get, early, feedback, users, early, stages, d...</td>\n",
       "      <td>2.5</td>\n",
       "    </tr>\n",
       "    <tr>\n",
       "      <th>20</th>\n",
       "      <td>[simulates, behavior, portions, desired, softw...</td>\n",
       "      <td>5.0</td>\n",
       "    </tr>\n",
       "    <tr>\n",
       "      <th>21</th>\n",
       "      <td>[simulates, behavior, portions, desired, softw...</td>\n",
       "      <td>5.0</td>\n",
       "    </tr>\n",
       "    <tr>\n",
       "      <th>22</th>\n",
       "      <td>[prototype, program, used, problem, solving, c...</td>\n",
       "      <td>1.5</td>\n",
       "    </tr>\n",
       "    <tr>\n",
       "      <th>23</th>\n",
       "      <td>[ease, understanding, problem, discussion, eas...</td>\n",
       "      <td>2.5</td>\n",
       "    </tr>\n",
       "    <tr>\n",
       "      <th>25</th>\n",
       "      <td>[role, prototype, program, help, spot, key, pr...</td>\n",
       "      <td>2.0</td>\n",
       "    </tr>\n",
       "    <tr>\n",
       "      <th>26</th>\n",
       "      <td>[prototype, program, gives, general, idea, end...</td>\n",
       "      <td>3.0</td>\n",
       "    </tr>\n",
       "    <tr>\n",
       "      <th>27</th>\n",
       "      <td>[show, certain, part, program, works, supposed]</td>\n",
       "      <td>3.0</td>\n",
       "    </tr>\n",
       "    <tr>\n",
       "      <th>28</th>\n",
       "      <td>[prototype, programming, approach, programming...</td>\n",
       "      <td>2.5</td>\n",
       "    </tr>\n",
       "  </tbody>\n",
       "</table>\n",
       "</div>"
      ],
      "text/plain": [
       "                                               answer  score\n",
       "0   [high, risk, problems, address, prototype, pro...    3.5\n",
       "1   [simulate, portions, desired, final, product, ...    5.0\n",
       "2   [prototype, program, simulates, behaviors, por...    4.0\n",
       "3   [defined, specification, phase, prototype, sti...    5.0\n",
       "4   [used, let, users, first, idea, completed, pro...    3.0\n",
       "5         [find, problem, errors, program, finalized]    2.0\n",
       "6   [address, major, issues, creation, program, wa...    2.5\n",
       "7   [break, whole, program, prototype, programs, s...    5.0\n",
       "8   [provide, example, model, finished, program, p...    3.5\n",
       "9   [simulating, behavior, portion, desired, softw...    5.0\n",
       "10  [program, stimulates, behavior, portions, desi...    5.0\n",
       "11  [program, simulates, behavior, portions, desir...    5.0\n",
       "12  [lay, basics, give, starting, point, actual, p...    2.0\n",
       "13       [simulate, problem, solving, parts, problem]    4.5\n",
       "14  [prototype, program, provides, basic, groundwo...    2.0\n",
       "15  [prototype, program, part, specification, phas...    4.5\n",
       "16  [program, simulates, behavior, portions, desir...    5.0\n",
       "17  [provides, limited, proof, concept, verify, cl...    2.0\n",
       "18  [tests, main, function, program, leaving, fine...    2.0\n",
       "19  [get, early, feedback, users, early, stages, d...    2.5\n",
       "20  [simulates, behavior, portions, desired, softw...    5.0\n",
       "21  [simulates, behavior, portions, desired, softw...    5.0\n",
       "22  [prototype, program, used, problem, solving, c...    1.5\n",
       "23  [ease, understanding, problem, discussion, eas...    2.5\n",
       "25  [role, prototype, program, help, spot, key, pr...    2.0\n",
       "26  [prototype, program, gives, general, idea, end...    3.0\n",
       "27    [show, certain, part, program, works, supposed]    3.0\n",
       "28  [prototype, programming, approach, programming...    2.5"
      ]
     },
     "execution_count": 6,
     "metadata": {},
     "output_type": "execute_result"
    }
   ],
   "source": [
    "tokenized_dataframe = dataframe.copy()\n",
    "\n",
    "tokenized_dataframe['answer'] = tokenized_dataframe['answer'].apply(lambda x: utils.tokenize(x))\n",
    "\n",
    "tokenized_dataframe"
   ]
  },
  {
   "cell_type": "markdown",
   "metadata": {},
   "source": [
    "### **Lemmatization**"
   ]
  },
  {
   "cell_type": "code",
   "execution_count": 7,
   "metadata": {},
   "outputs": [
    {
     "data": {
      "text/html": [
       "<div>\n",
       "<style scoped>\n",
       "    .dataframe tbody tr th:only-of-type {\n",
       "        vertical-align: middle;\n",
       "    }\n",
       "\n",
       "    .dataframe tbody tr th {\n",
       "        vertical-align: top;\n",
       "    }\n",
       "\n",
       "    .dataframe thead th {\n",
       "        text-align: right;\n",
       "    }\n",
       "</style>\n",
       "<table border=\"1\" class=\"dataframe\">\n",
       "  <thead>\n",
       "    <tr style=\"text-align: right;\">\n",
       "      <th></th>\n",
       "      <th>answer</th>\n",
       "      <th>score</th>\n",
       "    </tr>\n",
       "  </thead>\n",
       "  <tbody>\n",
       "    <tr>\n",
       "      <th>0</th>\n",
       "      <td>[high, risk, problem, address, prototype, prog...</td>\n",
       "      <td>3.5</td>\n",
       "    </tr>\n",
       "    <tr>\n",
       "      <th>1</th>\n",
       "      <td>[simulate, portion, desired, final, product, q...</td>\n",
       "      <td>5.0</td>\n",
       "    </tr>\n",
       "    <tr>\n",
       "      <th>2</th>\n",
       "      <td>[prototype, program, simulates, behavior, port...</td>\n",
       "      <td>4.0</td>\n",
       "    </tr>\n",
       "    <tr>\n",
       "      <th>3</th>\n",
       "      <td>[defined, specification, phase, prototype, sti...</td>\n",
       "      <td>5.0</td>\n",
       "    </tr>\n",
       "    <tr>\n",
       "      <th>4</th>\n",
       "      <td>[used, let, user, first, idea, completed, prog...</td>\n",
       "      <td>3.0</td>\n",
       "    </tr>\n",
       "    <tr>\n",
       "      <th>5</th>\n",
       "      <td>[find, problem, error, program, finalized]</td>\n",
       "      <td>2.0</td>\n",
       "    </tr>\n",
       "    <tr>\n",
       "      <th>6</th>\n",
       "      <td>[address, major, issue, creation, program, way...</td>\n",
       "      <td>2.5</td>\n",
       "    </tr>\n",
       "    <tr>\n",
       "      <th>7</th>\n",
       "      <td>[break, whole, program, prototype, program, si...</td>\n",
       "      <td>5.0</td>\n",
       "    </tr>\n",
       "    <tr>\n",
       "      <th>8</th>\n",
       "      <td>[provide, example, model, finished, program, p...</td>\n",
       "      <td>3.5</td>\n",
       "    </tr>\n",
       "    <tr>\n",
       "      <th>9</th>\n",
       "      <td>[simulating, behavior, portion, desired, softw...</td>\n",
       "      <td>5.0</td>\n",
       "    </tr>\n",
       "    <tr>\n",
       "      <th>10</th>\n",
       "      <td>[program, stimulates, behavior, portion, desir...</td>\n",
       "      <td>5.0</td>\n",
       "    </tr>\n",
       "    <tr>\n",
       "      <th>11</th>\n",
       "      <td>[program, simulates, behavior, portion, desire...</td>\n",
       "      <td>5.0</td>\n",
       "    </tr>\n",
       "    <tr>\n",
       "      <th>12</th>\n",
       "      <td>[lay, basic, give, starting, point, actual, pr...</td>\n",
       "      <td>2.0</td>\n",
       "    </tr>\n",
       "    <tr>\n",
       "      <th>13</th>\n",
       "      <td>[simulate, problem, solving, part, problem]</td>\n",
       "      <td>4.5</td>\n",
       "    </tr>\n",
       "    <tr>\n",
       "      <th>14</th>\n",
       "      <td>[prototype, program, provides, basic, groundwo...</td>\n",
       "      <td>2.0</td>\n",
       "    </tr>\n",
       "    <tr>\n",
       "      <th>15</th>\n",
       "      <td>[prototype, program, part, specification, phas...</td>\n",
       "      <td>4.5</td>\n",
       "    </tr>\n",
       "    <tr>\n",
       "      <th>16</th>\n",
       "      <td>[program, simulates, behavior, portion, desire...</td>\n",
       "      <td>5.0</td>\n",
       "    </tr>\n",
       "    <tr>\n",
       "      <th>17</th>\n",
       "      <td>[provides, limited, proof, concept, verify, cl...</td>\n",
       "      <td>2.0</td>\n",
       "    </tr>\n",
       "    <tr>\n",
       "      <th>18</th>\n",
       "      <td>[test, main, function, program, leaving, finer...</td>\n",
       "      <td>2.0</td>\n",
       "    </tr>\n",
       "    <tr>\n",
       "      <th>19</th>\n",
       "      <td>[get, early, feedback, user, early, stage, dev...</td>\n",
       "      <td>2.5</td>\n",
       "    </tr>\n",
       "    <tr>\n",
       "      <th>20</th>\n",
       "      <td>[simulates, behavior, portion, desired, softwa...</td>\n",
       "      <td>5.0</td>\n",
       "    </tr>\n",
       "    <tr>\n",
       "      <th>21</th>\n",
       "      <td>[simulates, behavior, portion, desired, softwa...</td>\n",
       "      <td>5.0</td>\n",
       "    </tr>\n",
       "    <tr>\n",
       "      <th>22</th>\n",
       "      <td>[prototype, program, used, problem, solving, c...</td>\n",
       "      <td>1.5</td>\n",
       "    </tr>\n",
       "    <tr>\n",
       "      <th>23</th>\n",
       "      <td>[ease, understanding, problem, discussion, eas...</td>\n",
       "      <td>2.5</td>\n",
       "    </tr>\n",
       "    <tr>\n",
       "      <th>25</th>\n",
       "      <td>[role, prototype, program, help, spot, key, pr...</td>\n",
       "      <td>2.0</td>\n",
       "    </tr>\n",
       "    <tr>\n",
       "      <th>26</th>\n",
       "      <td>[prototype, program, give, general, idea, end,...</td>\n",
       "      <td>3.0</td>\n",
       "    </tr>\n",
       "    <tr>\n",
       "      <th>27</th>\n",
       "      <td>[show, certain, part, program, work, supposed]</td>\n",
       "      <td>3.0</td>\n",
       "    </tr>\n",
       "    <tr>\n",
       "      <th>28</th>\n",
       "      <td>[prototype, programming, approach, programming...</td>\n",
       "      <td>2.5</td>\n",
       "    </tr>\n",
       "  </tbody>\n",
       "</table>\n",
       "</div>"
      ],
      "text/plain": [
       "                                               answer  score\n",
       "0   [high, risk, problem, address, prototype, prog...    3.5\n",
       "1   [simulate, portion, desired, final, product, q...    5.0\n",
       "2   [prototype, program, simulates, behavior, port...    4.0\n",
       "3   [defined, specification, phase, prototype, sti...    5.0\n",
       "4   [used, let, user, first, idea, completed, prog...    3.0\n",
       "5          [find, problem, error, program, finalized]    2.0\n",
       "6   [address, major, issue, creation, program, way...    2.5\n",
       "7   [break, whole, program, prototype, program, si...    5.0\n",
       "8   [provide, example, model, finished, program, p...    3.5\n",
       "9   [simulating, behavior, portion, desired, softw...    5.0\n",
       "10  [program, stimulates, behavior, portion, desir...    5.0\n",
       "11  [program, simulates, behavior, portion, desire...    5.0\n",
       "12  [lay, basic, give, starting, point, actual, pr...    2.0\n",
       "13        [simulate, problem, solving, part, problem]    4.5\n",
       "14  [prototype, program, provides, basic, groundwo...    2.0\n",
       "15  [prototype, program, part, specification, phas...    4.5\n",
       "16  [program, simulates, behavior, portion, desire...    5.0\n",
       "17  [provides, limited, proof, concept, verify, cl...    2.0\n",
       "18  [test, main, function, program, leaving, finer...    2.0\n",
       "19  [get, early, feedback, user, early, stage, dev...    2.5\n",
       "20  [simulates, behavior, portion, desired, softwa...    5.0\n",
       "21  [simulates, behavior, portion, desired, softwa...    5.0\n",
       "22  [prototype, program, used, problem, solving, c...    1.5\n",
       "23  [ease, understanding, problem, discussion, eas...    2.5\n",
       "25  [role, prototype, program, help, spot, key, pr...    2.0\n",
       "26  [prototype, program, give, general, idea, end,...    3.0\n",
       "27     [show, certain, part, program, work, supposed]    3.0\n",
       "28  [prototype, programming, approach, programming...    2.5"
      ]
     },
     "execution_count": 7,
     "metadata": {},
     "output_type": "execute_result"
    }
   ],
   "source": [
    "tokenized_dataframe['answer'] = tokenized_dataframe['answer'].apply(lambda x: utils.lemma(x))\n",
    "\n",
    "tokenized_dataframe"
   ]
  },
  {
   "cell_type": "markdown",
   "metadata": {},
   "source": [
    "### **Sanity Check**"
   ]
  },
  {
   "cell_type": "code",
   "execution_count": 8,
   "metadata": {},
   "outputs": [
    {
     "name": "stdout",
     "output_type": "stream",
     "text": [
      "174\n",
      "28\n"
     ]
    }
   ],
   "source": [
    "# Number of unique words\n",
    "unique_words = set(word for sentence in tokenized_dataframe['answer'] for word in sentence)\n",
    "print(len(unique_words))\n",
    "\n",
    "# Number of non-empty sentences\n",
    "non_empty_sentences = len([sentence for sentence in tokenized_dataframe['answer'] if sentence])\n",
    "print(non_empty_sentences)"
   ]
  },
  {
   "cell_type": "markdown",
   "metadata": {},
   "source": [
    "### **Word2Vec**\n",
    "\n",
    "To use the Word2Vec model for predicting the score of the answers, we need to choose the right vector size for each regression model since they can be sensitive to it.\n",
    "\n",
    "##### **Fine-Tuning the Word2Vec Model for SVR**"
   ]
  },
  {
   "cell_type": "code",
   "execution_count": 9,
   "metadata": {},
   "outputs": [
    {
     "name": "stdout",
     "output_type": "stream",
     "text": [
      "Vector size:  100  - MSE:  0.25891109288636227  - R2:  0.6415077175419599  - Best MSE:  0.07157048490702274  - Best R2:  0.9009024055133531  - Best Vector Size:  23\n",
      "Vector size:  200  - MSE:  0.3732319797374766  - R2:  0.4832172588250323  - Best MSE:  0.07157048490702274  - Best R2:  0.9009024055133531  - Best Vector Size:  23\n",
      "Vector size:  300  - MSE:  0.36690605184096753  - R2:  0.4919762359125064  - Best MSE:  0.07157048490702274  - Best R2:  0.9009024055133531  - Best Vector Size:  23\n",
      "Vector size:  400  - MSE:  0.2771444376116618  - R2:  0.6162615479223144  - Best MSE:  0.07157048490702274  - Best R2:  0.9009024055133531  - Best Vector Size:  23\n",
      "Vector size:  500  - MSE:  0.26013077707383586  - R2:  0.6398189240516119  - Best MSE:  0.07157048490702274  - Best R2:  0.9009024055133531  - Best Vector Size:  23\n",
      "Vector size:  600  - MSE:  0.2589136302764537  - R2:  0.6415042042326025  - Best MSE:  0.07157048490702274  - Best R2:  0.9009024055133531  - Best Vector Size:  23\n",
      "Vector size:  700  - MSE:  0.28500251299748264  - R2:  0.6053811358496395  - Best MSE:  0.07157048490702274  - Best R2:  0.9009024055133531  - Best Vector Size:  23\n",
      "Vector size:  800  - MSE:  0.28913889452855723  - R2:  0.5996538383450746  - Best MSE:  0.07157048490702274  - Best R2:  0.9009024055133531  - Best Vector Size:  23\n",
      "Vector size:  900  - MSE:  0.2690740639422986  - R2:  0.6274359114645096  - Best MSE:  0.07157048490702274  - Best R2:  0.9009024055133531  - Best Vector Size:  23\n",
      "Vector size:  1000  - MSE:  0.2943720133462593  - R2:  0.5924079815205641  - Best MSE:  0.07157048490702274  - Best R2:  0.9009024055133531  - Best Vector Size:  23\n",
      "Vector size:  1100  - MSE:  0.22808720086936676  - R2:  0.6841869526424151  - Best MSE:  0.07157048490702274  - Best R2:  0.9009024055133531  - Best Vector Size:  23\n",
      "Vector size:  1200  - MSE:  0.32959542406621106  - R2:  0.5436371051390924  - Best MSE:  0.07157048490702274  - Best R2:  0.9009024055133531  - Best Vector Size:  23\n",
      "Vector size:  1300  - MSE:  0.28314596233124883  - R2:  0.6079517444644247  - Best MSE:  0.07157048490702274  - Best R2:  0.9009024055133531  - Best Vector Size:  23\n",
      "Vector size:  1400  - MSE:  0.2612157819046999  - R2:  0.6383166096704155  - Best MSE:  0.07157048490702274  - Best R2:  0.9009024055133531  - Best Vector Size:  23\n",
      "Vector size:  1500  - MSE:  0.2417854449168637  - R2:  0.6652201531920348  - Best MSE:  0.07157048490702274  - Best R2:  0.9009024055133531  - Best Vector Size:  23\n",
      "Vector size:  1600  - MSE:  0.29102813178467973  - R2:  0.5970379713750589  - Best MSE:  0.07157048490702274  - Best R2:  0.9009024055133531  - Best Vector Size:  23\n",
      "Vector size:  1700  - MSE:  0.26021717358233254  - R2:  0.6396992981167703  - Best MSE:  0.07157048490702274  - Best R2:  0.9009024055133531  - Best Vector Size:  23\n",
      "Vector size:  1800  - MSE:  0.27099007093823024  - R2:  0.6247829787009119  - Best MSE:  0.07157048490702274  - Best R2:  0.9009024055133531  - Best Vector Size:  23\n",
      "Vector size:  1900  - MSE:  0.30176707787217366  - R2:  0.5821686614077595  - Best MSE:  0.07157048490702274  - Best R2:  0.9009024055133531  - Best Vector Size:  23\n",
      "Best MSE:  0.07157048490702274  - Best R2:  0.9009024055133531  - Best Vector Size:  23\n"
     ]
    },
    {
     "data": {
      "text/plain": [
       "(0.07157048490702274, 0.9009024055133531, 23)"
      ]
     },
     "execution_count": 9,
     "metadata": {},
     "output_type": "execute_result"
    }
   ],
   "source": [
    "utils.finetune_mse_r2(tokenized_dataframe, SVR())"
   ]
  },
  {
   "cell_type": "markdown",
   "metadata": {},
   "source": [
    "##### **Fine-Tuning the Word2Vec Model for Linear Regression**"
   ]
  },
  {
   "cell_type": "code",
   "execution_count": 10,
   "metadata": {},
   "outputs": [
    {
     "name": "stdout",
     "output_type": "stream",
     "text": [
      "Vector size:  100  - MSE:  0.29445146078455764  - R2:  0.5922979773752279  - Best MSE:  0.06088525665688849  - Best R2:  0.9156973369366159  - Best Vector Size:  98\n",
      "Vector size:  200  - MSE:  0.25029258991207826  - R2:  0.653441029352507  - Best MSE:  0.002165965274343762  - Best R2:  0.997000971158601  - Best Vector Size:  199\n",
      "Vector size:  300  - MSE:  0.72143147834286  - R2:  0.0010948761406551766  - Best MSE:  0.002165965274343762  - Best R2:  0.997000971158601  - Best Vector Size:  199\n",
      "Vector size:  400  - MSE:  0.1304774043959469  - R2:  0.8193389785286889  - Best MSE:  0.002165965274343762  - Best R2:  0.997000971158601  - Best Vector Size:  199\n",
      "Vector size:  500  - MSE:  0.19339278082475175  - R2:  0.7322253803964975  - Best MSE:  0.002165965274343762  - Best R2:  0.997000971158601  - Best Vector Size:  199\n",
      "Vector size:  600  - MSE:  0.13937666341972013  - R2:  0.8070169275726952  - Best MSE:  0.002165965274343762  - Best R2:  0.997000971158601  - Best Vector Size:  199\n",
      "Vector size:  700  - MSE:  0.25890334434715595  - R2:  0.6415184462885533  - Best MSE:  0.002165965274343762  - Best R2:  0.997000971158601  - Best Vector Size:  199\n",
      "Vector size:  800  - MSE:  0.22645489606189054  - R2:  0.6864470669912284  - Best MSE:  0.002165965274343762  - Best R2:  0.997000971158601  - Best Vector Size:  199\n",
      "Vector size:  900  - MSE:  0.28290883914854703  - R2:  0.6082800688712425  - Best MSE:  0.002165965274343762  - Best R2:  0.997000971158601  - Best Vector Size:  199\n",
      "Vector size:  1000  - MSE:  0.15238789578660317  - R2:  0.7890013750647034  - Best MSE:  0.002165965274343762  - Best R2:  0.997000971158601  - Best Vector Size:  199\n",
      "Vector size:  1100  - MSE:  0.07253834267675074  - R2:  0.8995622947552682  - Best MSE:  0.002165965274343762  - Best R2:  0.997000971158601  - Best Vector Size:  199\n",
      "Vector size:  1200  - MSE:  0.35432884710083573  - R2:  0.5093908270911505  - Best MSE:  0.002165965274343762  - Best R2:  0.997000971158601  - Best Vector Size:  199\n",
      "Vector size:  1300  - MSE:  0.28642637834479956  - R2:  0.6034096299841236  - Best MSE:  0.002165965274343762  - Best R2:  0.997000971158601  - Best Vector Size:  199\n",
      "Vector size:  1400  - MSE:  0.18596405181060996  - R2:  0.742511312877617  - Best MSE:  0.002165965274343762  - Best R2:  0.997000971158601  - Best Vector Size:  199\n",
      "Vector size:  1500  - MSE:  0.15228115406633455  - R2:  0.7891491712927675  - Best MSE:  0.002165965274343762  - Best R2:  0.997000971158601  - Best Vector Size:  199\n",
      "Vector size:  1600  - MSE:  0.18756786961618369  - R2:  0.7402906420698995  - Best MSE:  0.002165965274343762  - Best R2:  0.997000971158601  - Best Vector Size:  199\n",
      "Vector size:  1700  - MSE:  0.15954046337253658  - R2:  0.7790978199457186  - Best MSE:  0.002165965274343762  - Best R2:  0.997000971158601  - Best Vector Size:  199\n",
      "Vector size:  1800  - MSE:  0.13482329237302793  - R2:  0.8133215951758075  - Best MSE:  0.002165965274343762  - Best R2:  0.997000971158601  - Best Vector Size:  199\n",
      "Vector size:  1900  - MSE:  0.31008580720195295  - R2:  0.570650420797296  - Best MSE:  0.002165965274343762  - Best R2:  0.997000971158601  - Best Vector Size:  199\n",
      "Best MSE:  0.002165965274343762  - Best R2:  0.997000971158601  - Best Vector Size:  199\n"
     ]
    },
    {
     "data": {
      "text/plain": [
       "(0.002165965274343762, 0.997000971158601, 199)"
      ]
     },
     "execution_count": 10,
     "metadata": {},
     "output_type": "execute_result"
    }
   ],
   "source": [
    "utils.finetune_mse_r2(tokenized_dataframe, LinearRegression())"
   ]
  },
  {
   "cell_type": "markdown",
   "metadata": {},
   "source": [
    "##### **Fine-Tuning the Word2Vec Model for Decision Trees Regressor**"
   ]
  },
  {
   "cell_type": "code",
   "execution_count": 11,
   "metadata": {},
   "outputs": [
    {
     "name": "stdout",
     "output_type": "stream",
     "text": [
      "Vector size:  100  - MSE:  0.5  - R2:  0.3076923076923076  - Best MSE:  0.08333333333333333  - Best R2:  0.8846153846153846  - Best Vector Size:  33\n",
      "Vector size:  200  - MSE:  0.08333333333333333  - R2:  0.8846153846153846  - Best MSE:  0.08333333333333333  - Best R2:  0.8846153846153846  - Best Vector Size:  33\n",
      "Vector size:  300  - MSE:  0.8333333333333334  - R2:  -0.15384615384615397  - Best MSE:  0.08333333333333333  - Best R2:  0.8846153846153846  - Best Vector Size:  33\n",
      "Vector size:  400  - MSE:  1.0833333333333333  - R2:  -0.5  - Best MSE:  0.08333333333333333  - Best R2:  0.8846153846153846  - Best Vector Size:  33\n",
      "Vector size:  500  - MSE:  1.1666666666666667  - R2:  -0.6153846153846154  - Best MSE:  0.08333333333333333  - Best R2:  0.8846153846153846  - Best Vector Size:  33\n",
      "Vector size:  600  - MSE:  0.4166666666666667  - R2:  0.423076923076923  - Best MSE:  0.0  - Best R2:  1.0  - Best Vector Size:  595\n",
      "Vector size:  700  - MSE:  1.0833333333333333  - R2:  -0.5  - Best MSE:  0.0  - Best R2:  1.0  - Best Vector Size:  595\n",
      "Vector size:  800  - MSE:  0.4166666666666667  - R2:  0.423076923076923  - Best MSE:  0.0  - Best R2:  1.0  - Best Vector Size:  595\n",
      "Vector size:  900  - MSE:  0.16666666666666666  - R2:  0.7692307692307692  - Best MSE:  0.0  - Best R2:  1.0  - Best Vector Size:  595\n",
      "Vector size:  1000  - MSE:  2.8333333333333335  - R2:  -2.9230769230769234  - Best MSE:  0.0  - Best R2:  1.0  - Best Vector Size:  595\n",
      "Vector size:  1100  - MSE:  0.75  - R2:  -0.03846153846153855  - Best MSE:  0.0  - Best R2:  1.0  - Best Vector Size:  595\n",
      "Vector size:  1200  - MSE:  1.6666666666666667  - R2:  -1.307692307692308  - Best MSE:  0.0  - Best R2:  1.0  - Best Vector Size:  595\n",
      "Vector size:  1300  - MSE:  1.4166666666666667  - R2:  -0.9615384615384617  - Best MSE:  0.0  - Best R2:  1.0  - Best Vector Size:  595\n",
      "Vector size:  1400  - MSE:  0.08333333333333333  - R2:  0.8846153846153846  - Best MSE:  0.0  - Best R2:  1.0  - Best Vector Size:  595\n",
      "Vector size:  1500  - MSE:  0.8333333333333334  - R2:  -0.15384615384615397  - Best MSE:  0.0  - Best R2:  1.0  - Best Vector Size:  595\n",
      "Vector size:  1600  - MSE:  0.3333333333333333  - R2:  0.5384615384615384  - Best MSE:  0.0  - Best R2:  1.0  - Best Vector Size:  595\n",
      "Vector size:  1700  - MSE:  0.16666666666666666  - R2:  0.7692307692307692  - Best MSE:  0.0  - Best R2:  1.0  - Best Vector Size:  595\n",
      "Vector size:  1800  - MSE:  1.0833333333333333  - R2:  -0.5  - Best MSE:  0.0  - Best R2:  1.0  - Best Vector Size:  595\n",
      "Vector size:  1900  - MSE:  3.4166666666666665  - R2:  -3.730769230769231  - Best MSE:  0.0  - Best R2:  1.0  - Best Vector Size:  595\n",
      "Best MSE:  0.0  - Best R2:  1.0  - Best Vector Size:  595\n"
     ]
    },
    {
     "data": {
      "text/plain": [
       "(0.0, 1.0, 595)"
      ]
     },
     "execution_count": 11,
     "metadata": {},
     "output_type": "execute_result"
    }
   ],
   "source": [
    "utils.finetune_mse_r2(tokenized_dataframe, DecisionTreeRegressor())"
   ]
  },
  {
   "cell_type": "markdown",
   "metadata": {},
   "source": [
    "##### **Evaluating SVR with 0.1 test size**"
   ]
  },
  {
   "cell_type": "code",
   "execution_count": 15,
   "metadata": {},
   "outputs": [
    {
     "name": "stdout",
     "output_type": "stream",
     "text": [
      "SVR with 0.1 test size:\n",
      "MSE:  0.07157048490702274  - R2:  0.9009024055133531\n"
     ]
    },
    {
     "data": {
      "text/plain": [
       "(0.07157048490702274, 0.9009024055133531)"
      ]
     },
     "execution_count": 15,
     "metadata": {},
     "output_type": "execute_result"
    }
   ],
   "source": [
    "print('SVR with 0.1 test size:')\n",
    "utils.evaluate_reg_model(tokenized_dataframe, SVR(), 23)"
   ]
  },
  {
   "cell_type": "markdown",
   "metadata": {},
   "source": [
    "##### **Evaluating Linear Regression with 0.1 test size**"
   ]
  },
  {
   "cell_type": "code",
   "execution_count": 16,
   "metadata": {},
   "outputs": [
    {
     "name": "stdout",
     "output_type": "stream",
     "text": [
      "Linear Regression with 0.1 test size:\n",
      "MSE:  0.002165965274343762  - R2:  0.997000971158601\n"
     ]
    },
    {
     "data": {
      "text/plain": [
       "(0.002165965274343762, 0.997000971158601)"
      ]
     },
     "execution_count": 16,
     "metadata": {},
     "output_type": "execute_result"
    }
   ],
   "source": [
    "print('Linear Regression with 0.1 test size:')\n",
    "utils.evaluate_reg_model(tokenized_dataframe, LinearRegression(), 199)"
   ]
  },
  {
   "cell_type": "markdown",
   "metadata": {},
   "source": [
    "##### **Evaluating Decision Trees Regressor with 0.1 test size**"
   ]
  },
  {
   "cell_type": "code",
   "execution_count": 43,
   "metadata": {},
   "outputs": [
    {
     "name": "stdout",
     "output_type": "stream",
     "text": [
      "Decision Tree with 0.1 test size:\n",
      "MSE:  0.08333333333333333  - R2:  0.8846153846153846\n"
     ]
    },
    {
     "data": {
      "text/plain": [
       "(0.08333333333333333, 0.8846153846153846)"
      ]
     },
     "execution_count": 43,
     "metadata": {},
     "output_type": "execute_result"
    }
   ],
   "source": [
    "print('Decision Tree with 0.1 test size:')\n",
    "utils.evaluate_reg_model(tokenized_dataframe, DecisionTreeRegressor(), 82)"
   ]
  },
  {
   "cell_type": "markdown",
   "metadata": {},
   "source": [
    "##### **Fine-Tuning the Word2Vec Model for SVR with 0.2 test size**"
   ]
  },
  {
   "cell_type": "code",
   "execution_count": 44,
   "metadata": {},
   "outputs": [
    {
     "name": "stdout",
     "output_type": "stream",
     "text": [
      "Vector size:  100  - MSE:  0.25891109288636227  - R2:  0.6415077175419599  - Best MSE:  0.07157048490702274  - Best R2:  0.9009024055133531  - Best Vector Size:  23\n",
      "Vector size:  200  - MSE:  0.3732319797374766  - R2:  0.4832172588250323  - Best MSE:  0.07157048490702274  - Best R2:  0.9009024055133531  - Best Vector Size:  23\n",
      "Vector size:  300  - MSE:  0.36690605184096753  - R2:  0.4919762359125064  - Best MSE:  0.07157048490702274  - Best R2:  0.9009024055133531  - Best Vector Size:  23\n",
      "Vector size:  400  - MSE:  0.2771444376116618  - R2:  0.6162615479223144  - Best MSE:  0.07157048490702274  - Best R2:  0.9009024055133531  - Best Vector Size:  23\n",
      "Vector size:  500  - MSE:  0.26013077707383586  - R2:  0.6398189240516119  - Best MSE:  0.07157048490702274  - Best R2:  0.9009024055133531  - Best Vector Size:  23\n",
      "Vector size:  600  - MSE:  0.2589136302764537  - R2:  0.6415042042326025  - Best MSE:  0.07157048490702274  - Best R2:  0.9009024055133531  - Best Vector Size:  23\n",
      "Vector size:  700  - MSE:  0.28500251299748264  - R2:  0.6053811358496395  - Best MSE:  0.07157048490702274  - Best R2:  0.9009024055133531  - Best Vector Size:  23\n",
      "Vector size:  800  - MSE:  0.28913889452855723  - R2:  0.5996538383450746  - Best MSE:  0.07157048490702274  - Best R2:  0.9009024055133531  - Best Vector Size:  23\n",
      "Vector size:  900  - MSE:  0.2690740639422986  - R2:  0.6274359114645096  - Best MSE:  0.07157048490702274  - Best R2:  0.9009024055133531  - Best Vector Size:  23\n",
      "Vector size:  1000  - MSE:  0.2943720133462593  - R2:  0.5924079815205641  - Best MSE:  0.07157048490702274  - Best R2:  0.9009024055133531  - Best Vector Size:  23\n",
      "Vector size:  1100  - MSE:  0.22808720086936676  - R2:  0.6841869526424151  - Best MSE:  0.07157048490702274  - Best R2:  0.9009024055133531  - Best Vector Size:  23\n",
      "Vector size:  1200  - MSE:  0.32959542406621106  - R2:  0.5436371051390924  - Best MSE:  0.07157048490702274  - Best R2:  0.9009024055133531  - Best Vector Size:  23\n",
      "Vector size:  1300  - MSE:  0.28314596233124883  - R2:  0.6079517444644247  - Best MSE:  0.07157048490702274  - Best R2:  0.9009024055133531  - Best Vector Size:  23\n",
      "Vector size:  1400  - MSE:  0.2612157819046999  - R2:  0.6383166096704155  - Best MSE:  0.07157048490702274  - Best R2:  0.9009024055133531  - Best Vector Size:  23\n",
      "Vector size:  1500  - MSE:  0.2417854449168637  - R2:  0.6652201531920348  - Best MSE:  0.07157048490702274  - Best R2:  0.9009024055133531  - Best Vector Size:  23\n",
      "Vector size:  1600  - MSE:  0.29102813178467973  - R2:  0.5970379713750589  - Best MSE:  0.07157048490702274  - Best R2:  0.9009024055133531  - Best Vector Size:  23\n",
      "Vector size:  1700  - MSE:  0.26021717358233254  - R2:  0.6396992981167703  - Best MSE:  0.07157048490702274  - Best R2:  0.9009024055133531  - Best Vector Size:  23\n",
      "Vector size:  1800  - MSE:  0.27099007093823024  - R2:  0.6247829787009119  - Best MSE:  0.07157048490702274  - Best R2:  0.9009024055133531  - Best Vector Size:  23\n",
      "Vector size:  1900  - MSE:  0.30176707787217366  - R2:  0.5821686614077595  - Best MSE:  0.07157048490702274  - Best R2:  0.9009024055133531  - Best Vector Size:  23\n",
      "Best MSE:  0.07157048490702274  - Best R2:  0.9009024055133531  - Best Vector Size:  23\n"
     ]
    },
    {
     "data": {
      "text/plain": [
       "(0.07157048490702274, 0.9009024055133531, 23)"
      ]
     },
     "execution_count": 44,
     "metadata": {},
     "output_type": "execute_result"
    }
   ],
   "source": [
    "utils.finetune_mse_r2(tokenized_dataframe, SVR(), 0.2)"
   ]
  },
  {
   "cell_type": "markdown",
   "metadata": {},
   "source": [
    "##### **Fine-Tuning the Word2Vec Model for Linear Regression with 0.2 test size**"
   ]
  },
  {
   "cell_type": "code",
   "execution_count": 45,
   "metadata": {},
   "outputs": [
    {
     "name": "stdout",
     "output_type": "stream",
     "text": [
      "Vector size:  100  - MSE:  0.29445146078455764  - R2:  0.5922979773752279  - Best MSE:  0.06088525665688849  - Best R2:  0.9156973369366159  - Best Vector Size:  98\n",
      "Vector size:  200  - MSE:  0.25029258991207826  - R2:  0.653441029352507  - Best MSE:  0.002165965274343762  - Best R2:  0.997000971158601  - Best Vector Size:  199\n",
      "Vector size:  300  - MSE:  0.72143147834286  - R2:  0.0010948761406551766  - Best MSE:  0.002165965274343762  - Best R2:  0.997000971158601  - Best Vector Size:  199\n",
      "Vector size:  400  - MSE:  0.1304774043959469  - R2:  0.8193389785286889  - Best MSE:  0.002165965274343762  - Best R2:  0.997000971158601  - Best Vector Size:  199\n",
      "Vector size:  500  - MSE:  0.19339278082475175  - R2:  0.7322253803964975  - Best MSE:  0.002165965274343762  - Best R2:  0.997000971158601  - Best Vector Size:  199\n",
      "Vector size:  600  - MSE:  0.13937666341972013  - R2:  0.8070169275726952  - Best MSE:  0.002165965274343762  - Best R2:  0.997000971158601  - Best Vector Size:  199\n",
      "Vector size:  700  - MSE:  0.25890334434715595  - R2:  0.6415184462885533  - Best MSE:  0.002165965274343762  - Best R2:  0.997000971158601  - Best Vector Size:  199\n",
      "Vector size:  800  - MSE:  0.22645489606189054  - R2:  0.6864470669912284  - Best MSE:  0.002165965274343762  - Best R2:  0.997000971158601  - Best Vector Size:  199\n",
      "Vector size:  900  - MSE:  0.28290883914854703  - R2:  0.6082800688712425  - Best MSE:  0.002165965274343762  - Best R2:  0.997000971158601  - Best Vector Size:  199\n",
      "Vector size:  1000  - MSE:  0.15238789578660317  - R2:  0.7890013750647034  - Best MSE:  0.002165965274343762  - Best R2:  0.997000971158601  - Best Vector Size:  199\n",
      "Vector size:  1100  - MSE:  0.07253834267675074  - R2:  0.8995622947552682  - Best MSE:  0.002165965274343762  - Best R2:  0.997000971158601  - Best Vector Size:  199\n",
      "Vector size:  1200  - MSE:  0.35432884710083573  - R2:  0.5093908270911505  - Best MSE:  0.002165965274343762  - Best R2:  0.997000971158601  - Best Vector Size:  199\n",
      "Vector size:  1300  - MSE:  0.28642637834479956  - R2:  0.6034096299841236  - Best MSE:  0.002165965274343762  - Best R2:  0.997000971158601  - Best Vector Size:  199\n",
      "Vector size:  1400  - MSE:  0.18596405181060996  - R2:  0.742511312877617  - Best MSE:  0.002165965274343762  - Best R2:  0.997000971158601  - Best Vector Size:  199\n",
      "Vector size:  1500  - MSE:  0.15228115406633455  - R2:  0.7891491712927675  - Best MSE:  0.002165965274343762  - Best R2:  0.997000971158601  - Best Vector Size:  199\n",
      "Vector size:  1600  - MSE:  0.18756786961618369  - R2:  0.7402906420698995  - Best MSE:  0.002165965274343762  - Best R2:  0.997000971158601  - Best Vector Size:  199\n",
      "Vector size:  1700  - MSE:  0.15954046337253658  - R2:  0.7790978199457186  - Best MSE:  0.002165965274343762  - Best R2:  0.997000971158601  - Best Vector Size:  199\n",
      "Vector size:  1800  - MSE:  0.13482329237302793  - R2:  0.8133215951758075  - Best MSE:  0.002165965274343762  - Best R2:  0.997000971158601  - Best Vector Size:  199\n",
      "Vector size:  1900  - MSE:  0.31008580720195295  - R2:  0.570650420797296  - Best MSE:  0.002165965274343762  - Best R2:  0.997000971158601  - Best Vector Size:  199\n",
      "Best MSE:  0.002165965274343762  - Best R2:  0.997000971158601  - Best Vector Size:  199\n"
     ]
    },
    {
     "data": {
      "text/plain": [
       "(0.002165965274343762, 0.997000971158601, 199)"
      ]
     },
     "execution_count": 45,
     "metadata": {},
     "output_type": "execute_result"
    }
   ],
   "source": [
    "utils.finetune_mse_r2(tokenized_dataframe, LinearRegression(), 0.2)"
   ]
  },
  {
   "cell_type": "markdown",
   "metadata": {},
   "source": [
    "##### **Fine-Tuning the Word2Vec Model for Decision Trees Regressor with 0.2 test size**"
   ]
  },
  {
   "cell_type": "code",
   "execution_count": 46,
   "metadata": {},
   "outputs": [
    {
     "name": "stdout",
     "output_type": "stream",
     "text": [
      "Vector size:  100  - MSE:  0.8333333333333334  - R2:  -0.15384615384615397  - Best MSE:  0.08333333333333333  - Best R2:  0.8846153846153846  - Best Vector Size:  22\n",
      "Vector size:  200  - MSE:  0.08333333333333333  - R2:  0.8846153846153846  - Best MSE:  0.0  - Best R2:  1.0  - Best Vector Size:  157\n",
      "Vector size:  300  - MSE:  1.5  - R2:  -1.076923076923077  - Best MSE:  0.0  - Best R2:  1.0  - Best Vector Size:  157\n",
      "Vector size:  400  - MSE:  1.1666666666666667  - R2:  -0.6153846153846154  - Best MSE:  0.0  - Best R2:  1.0  - Best Vector Size:  157\n",
      "Vector size:  500  - MSE:  1.6666666666666667  - R2:  -1.307692307692308  - Best MSE:  0.0  - Best R2:  1.0  - Best Vector Size:  157\n",
      "Vector size:  600  - MSE:  0.4166666666666667  - R2:  0.423076923076923  - Best MSE:  0.0  - Best R2:  1.0  - Best Vector Size:  157\n",
      "Vector size:  700  - MSE:  0.75  - R2:  -0.03846153846153855  - Best MSE:  0.0  - Best R2:  1.0  - Best Vector Size:  157\n",
      "Vector size:  800  - MSE:  0.4166666666666667  - R2:  0.423076923076923  - Best MSE:  0.0  - Best R2:  1.0  - Best Vector Size:  157\n",
      "Vector size:  900  - MSE:  0.3333333333333333  - R2:  0.5384615384615384  - Best MSE:  0.0  - Best R2:  1.0  - Best Vector Size:  157\n",
      "Vector size:  1000  - MSE:  1.4166666666666667  - R2:  -0.9615384615384617  - Best MSE:  0.0  - Best R2:  1.0  - Best Vector Size:  157\n",
      "Vector size:  1100  - MSE:  0.8333333333333334  - R2:  -0.15384615384615397  - Best MSE:  0.0  - Best R2:  1.0  - Best Vector Size:  157\n",
      "Vector size:  1200  - MSE:  1.4166666666666667  - R2:  -0.9615384615384617  - Best MSE:  0.0  - Best R2:  1.0  - Best Vector Size:  157\n",
      "Vector size:  1300  - MSE:  0.16666666666666666  - R2:  0.7692307692307692  - Best MSE:  0.0  - Best R2:  1.0  - Best Vector Size:  157\n",
      "Vector size:  1400  - MSE:  0.4166666666666667  - R2:  0.423076923076923  - Best MSE:  0.0  - Best R2:  1.0  - Best Vector Size:  157\n",
      "Vector size:  1500  - MSE:  1.0833333333333333  - R2:  -0.5  - Best MSE:  0.0  - Best R2:  1.0  - Best Vector Size:  157\n",
      "Vector size:  1600  - MSE:  0.3333333333333333  - R2:  0.5384615384615384  - Best MSE:  0.0  - Best R2:  1.0  - Best Vector Size:  157\n",
      "Vector size:  1700  - MSE:  0.8333333333333334  - R2:  -0.15384615384615397  - Best MSE:  0.0  - Best R2:  1.0  - Best Vector Size:  157\n",
      "Vector size:  1800  - MSE:  1.8333333333333333  - R2:  -1.5384615384615388  - Best MSE:  0.0  - Best R2:  1.0  - Best Vector Size:  157\n",
      "Vector size:  1900  - MSE:  0.4166666666666667  - R2:  0.423076923076923  - Best MSE:  0.0  - Best R2:  1.0  - Best Vector Size:  157\n",
      "Best MSE:  0.0  - Best R2:  1.0  - Best Vector Size:  157\n"
     ]
    },
    {
     "data": {
      "text/plain": [
       "(0.0, 1.0, 157)"
      ]
     },
     "execution_count": 46,
     "metadata": {},
     "output_type": "execute_result"
    }
   ],
   "source": [
    "utils.finetune_mse_r2(tokenized_dataframe, DecisionTreeRegressor(), 0.2)"
   ]
  },
  {
   "cell_type": "markdown",
   "metadata": {},
   "source": [
    "##### **Evaluating SVR with 0.2 test size**"
   ]
  },
  {
   "cell_type": "code",
   "execution_count": 48,
   "metadata": {},
   "outputs": [
    {
     "name": "stdout",
     "output_type": "stream",
     "text": [
      "SVR with 0.2 test size:\n",
      "MSE:  0.173259253998202  - R2:  0.847869923318652\n"
     ]
    },
    {
     "data": {
      "text/plain": [
       "(0.173259253998202, 0.847869923318652)"
      ]
     },
     "execution_count": 48,
     "metadata": {},
     "output_type": "execute_result"
    }
   ],
   "source": [
    "print('SVR with 0.2 test size:')\n",
    "utils.evaluate_reg_model(tokenized_dataframe, SVR(), 23, test_size=0.2)"
   ]
  },
  {
   "cell_type": "markdown",
   "metadata": {},
   "source": [
    "##### **Evaluating Linear Regression with 0.2 test size**"
   ]
  },
  {
   "cell_type": "code",
   "execution_count": 49,
   "metadata": {},
   "outputs": [
    {
     "name": "stdout",
     "output_type": "stream",
     "text": [
      "Linear Regression with 0.2 test size:\n",
      "MSE:  0.06778304202537318  - R2:  0.9404831826118675\n"
     ]
    },
    {
     "data": {
      "text/plain": [
       "(0.06778304202537318, 0.9404831826118675)"
      ]
     },
     "execution_count": 49,
     "metadata": {},
     "output_type": "execute_result"
    }
   ],
   "source": [
    "print('Linear Regression with 0.2 test size:')\n",
    "utils.evaluate_reg_model(tokenized_dataframe, LinearRegression(), 199, test_size=0.2)"
   ]
  },
  {
   "cell_type": "markdown",
   "metadata": {},
   "source": [
    "##### **Evaluating Decision Trees Regressor with 0.2 test size**"
   ]
  },
  {
   "cell_type": "code",
   "execution_count": 57,
   "metadata": {},
   "outputs": [
    {
     "name": "stdout",
     "output_type": "stream",
     "text": [
      "Decision Tree with 0.2 test size:\n",
      "MSE:  0.7916666666666666  - R2:  0.30487804878048785\n"
     ]
    },
    {
     "data": {
      "text/plain": [
       "(0.7916666666666666, 0.30487804878048785)"
      ]
     },
     "execution_count": 57,
     "metadata": {},
     "output_type": "execute_result"
    }
   ],
   "source": [
    "print('Decision Tree with 0.2 test size:')\n",
    "utils.evaluate_reg_model(tokenized_dataframe, DecisionTreeRegressor(), 157, test_size=0.2)"
   ]
  }
 ],
 "metadata": {
  "kernelspec": {
   "display_name": ".venv",
   "language": "python",
   "name": "python3"
  },
  "language_info": {
   "codemirror_mode": {
    "name": "ipython",
    "version": 3
   },
   "file_extension": ".py",
   "mimetype": "text/x-python",
   "name": "python",
   "nbconvert_exporter": "python",
   "pygments_lexer": "ipython3",
   "version": "3.12.2"
  }
 },
 "nbformat": 4,
 "nbformat_minor": 2
}

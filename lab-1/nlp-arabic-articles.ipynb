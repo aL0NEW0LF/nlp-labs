{
 "cells": [
  {
   "cell_type": "code",
   "execution_count": 1,
   "metadata": {},
   "outputs": [],
   "source": [
    "from bs4 import BeautifulSoup\n",
    "import requests\n",
    "import json\n",
    "import os\n",
    "from dotenv import load_dotenv\n",
    "from pymongo.mongo_client import MongoClient\n",
    "from pymongo.server_api import ServerApi\n",
    "from urllib.parse import quote_plus"
   ]
  },
  {
   "cell_type": "code",
   "execution_count": 2,
   "metadata": {},
   "outputs": [],
   "source": [
    "BASE_URL = 'https://www.aljazeera.net/'\n",
    "\n",
    "articles = []\n",
    "articlesTitles = []\n",
    "articlesLinks = []\n",
    "articlesDates = []\n",
    "articlesContents = []\n",
    "\n",
    "html = requests.get(BASE_URL + '/news/').text\n",
    "soup = BeautifulSoup(html, \"html.parser\")\n",
    "\n",
    "newsFeedContainer = soup.find('section', {'id': 'news-feed-container'})\n",
    "\n",
    "for a in newsFeedContainer.find_all('a', href=True):\n",
    "    articlesLinks.append(a['href'])\n",
    "    articlesTitles.append(a.text)\n",
    "\n",
    "for b in articlesLinks:\n",
    "    html = requests.get(BASE_URL + b).text\n",
    "    soup = BeautifulSoup(html, \"html.parser\")\n",
    "    article = ''\n",
    "\n",
    "    articleDate = soup.find('span', {'class': 'article-dates__published'}).text\n",
    "\n",
    "    articlesParagraphsContainer = soup.find('div', {'class': 'wysiwyg wysiwyg--all-content css-1vkfgk0'})\n",
    "\n",
    "    articlesParagraphs = articlesParagraphsContainer.find_all('p', recursive=False)\n",
    "\n",
    "    articlesDates.append(articleDate)\n",
    "\n",
    "    for p in articlesParagraphs:\n",
    "        article += p.text + '\\n'\n",
    "\n",
    "    articlesContents.append(article)\n",
    "\n",
    "for i in range(len(articlesTitles)):\n",
    "    articles.append({\n",
    "        'title': articlesTitles[i],\n",
    "        'link': articlesLinks[i],\n",
    "        'date': articlesDates[i],\n",
    "        'content': articlesContents[i]\n",
    "    })"
   ]
  },
  {
   "cell_type": "code",
   "execution_count": 3,
   "metadata": {},
   "outputs": [],
   "source": [
    "with open('tmp/aljazzera.json', 'w', encoding='utf-8') as json_file:\n",
    "    json.dump(articles, json_file, indent=4, ensure_ascii=False)"
   ]
  },
  {
   "cell_type": "code",
   "execution_count": 4,
   "metadata": {},
   "outputs": [
    {
     "name": "stdout",
     "output_type": "stream",
     "text": [
      "Pinged your deployment. You successfully connected to MongoDB!\n"
     ]
    }
   ],
   "source": [
    "load_dotenv()\n",
    "\n",
    "username = quote_plus(os.getenv('MONGODB_USERNAME'))\n",
    "password = quote_plus(os.getenv('MONGODB_PASS'))\n",
    "cluster = os.getenv('MONGODB_CLUSTER_ID')\n",
    "\n",
    "uri = \"mongodb+srv://\" + username + \":\" + password + \"@cluster.\" + cluster + \".mongodb.net/?retryWrites=true&w=majority\"\n",
    "\n",
    "client = MongoClient(uri, server_api=ServerApi('1'))\n",
    "\n",
    "try:\n",
    "    client.admin.command('ping')\n",
    "    print(\"Pinged your deployment. You successfully connected to MongoDB!\")\n",
    "except Exception as e:\n",
    "    print(e)"
   ]
  },
  {
   "cell_type": "code",
   "execution_count": 5,
   "metadata": {},
   "outputs": [
    {
     "name": "stdout",
     "output_type": "stream",
     "text": [
      "Articles inserted successfully\n"
     ]
    }
   ],
   "source": [
    "db = client['nlp-lab-db']\n",
    "\n",
    "collection = db['aljazeera-articles']\n",
    "\n",
    "collection.insert_many(articles)\n",
    "\n",
    "print('Articles inserted successfully')"
   ]
  }
 ],
 "metadata": {
  "kernelspec": {
   "display_name": ".venv",
   "language": "python",
   "name": "python3"
  },
  "language_info": {
   "codemirror_mode": {
    "name": "ipython",
    "version": 3
   },
   "file_extension": ".py",
   "mimetype": "text/x-python",
   "name": "python",
   "nbconvert_exporter": "python",
   "pygments_lexer": "ipython3",
   "version": "3.12.2"
  }
 },
 "nbformat": 4,
 "nbformat_minor": 2
}
